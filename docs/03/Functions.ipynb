{
 "cells": [
  {
   "cell_type": "code",
   "execution_count": 1,
   "id": "6cb798d8-7023-43ab-a840-792b1c95d58b",
   "metadata": {},
   "outputs": [
    {
     "name": "stdout",
     "output_type": "stream",
     "text": [
      "hello\n"
     ]
    }
   ],
   "source": [
    "def say_hello():\n",
    "    print(\"hello\")\n",
    "\n",
    "say_hello()"
   ]
  },
  {
   "cell_type": "code",
   "execution_count": 5,
   "id": "10cd3529-167a-4d27-b497-8ae7d505b54a",
   "metadata": {},
   "outputs": [
    {
     "name": "stdout",
     "output_type": "stream",
     "text": [
      "Hello Jose\n",
      "Hello Default\n"
     ]
    }
   ],
   "source": [
    "def say_hello(name='Default'):\n",
    "    print(f'Hello {name}')\n",
    "\n",
    "say_hello('Jose')\n",
    "say_hello()"
   ]
  },
  {
   "cell_type": "code",
   "execution_count": 9,
   "id": "689eb32d-74c3-4321-bfb0-d58daa187a66",
   "metadata": {},
   "outputs": [
    {
     "data": {
      "text/plain": [
       "3"
      ]
     },
     "execution_count": 9,
     "metadata": {},
     "output_type": "execute_result"
    }
   ],
   "source": [
    "def add_num(num1, num2):\n",
    "    return num1 + num2\n",
    "\n",
    "result = add_num(1, 2)\n",
    "result"
   ]
  },
  {
   "cell_type": "code",
   "execution_count": 13,
   "id": "3626ca07-bff1-46be-85a1-325f6a247669",
   "metadata": {},
   "outputs": [
    {
     "name": "stdout",
     "output_type": "stream",
     "text": [
      "30\n"
     ]
    }
   ],
   "source": [
    "def print_result(a, b):\n",
    "    print(a + b)\n",
    "\n",
    "print_result(10, 20);"
   ]
  },
  {
   "cell_type": "code",
   "execution_count": 14,
   "id": "93bdb090-5ae3-4e14-9109-9d9c5f77cb8f",
   "metadata": {},
   "outputs": [
    {
     "data": {
      "text/plain": [
       "30"
      ]
     },
     "execution_count": 14,
     "metadata": {},
     "output_type": "execute_result"
    }
   ],
   "source": [
    "def return_result(a, b):\n",
    "    return a + b\n",
    "\n",
    "result = return_result(10, 20);\n",
    "result"
   ]
  },
  {
   "cell_type": "code",
   "execution_count": 17,
   "id": "fa1000be-3a7e-486b-a343-c854413c4aae",
   "metadata": {},
   "outputs": [
    {
     "name": "stdout",
     "output_type": "stream",
     "text": [
      "30\n"
     ]
    },
    {
     "data": {
      "text/plain": [
       "30"
      ]
     },
     "execution_count": 17,
     "metadata": {},
     "output_type": "execute_result"
    }
   ],
   "source": [
    "def myfunc(a, b):\n",
    "    print(a + b)\n",
    "    return a + b\n",
    "\n",
    "result = myfunc(10, 20)\n",
    "result"
   ]
  },
  {
   "cell_type": "code",
   "execution_count": 20,
   "id": "be1f2618-2e2a-4074-b8d1-ec75896aebfd",
   "metadata": {},
   "outputs": [
    {
     "data": {
      "text/plain": [
       "True"
      ]
     },
     "execution_count": 20,
     "metadata": {},
     "output_type": "execute_result"
    }
   ],
   "source": [
    "def check_even(number):\n",
    "    return number % 2 == 0\n",
    "\n",
    "check_even(20)"
   ]
  },
  {
   "cell_type": "code",
   "execution_count": 21,
   "id": "e5fd165f-8f65-4fd2-a44d-6e7cb297b6eb",
   "metadata": {},
   "outputs": [
    {
     "data": {
      "text/plain": [
       "False"
      ]
     },
     "execution_count": 21,
     "metadata": {},
     "output_type": "execute_result"
    }
   ],
   "source": [
    "check_even(21)"
   ]
  },
  {
   "cell_type": "code",
   "execution_count": 27,
   "id": "9a7c8a3f-0eb5-493b-9db4-d7bc173fe7a0",
   "metadata": {},
   "outputs": [
    {
     "data": {
      "text/plain": [
       "[]"
      ]
     },
     "execution_count": 27,
     "metadata": {},
     "output_type": "execute_result"
    }
   ],
   "source": [
    "def check_even_list(num_list):\n",
    "    \"\"\"\n",
    "    return all the even numbers in a list\n",
    "    \"\"\"\n",
    "    # placeholder variables\n",
    "    even_numbers = []\n",
    "    \n",
    "    for num in num_list:\n",
    "        if num % 2 == 0:\n",
    "            even_numbers.append(num)\n",
    "    return even_numbers\n",
    "\n",
    "check_even_list([1, 3, 5])"
   ]
  },
  {
   "cell_type": "code",
   "execution_count": 29,
   "id": "594d7617-24cd-43b1-890e-b25742bae8bb",
   "metadata": {},
   "outputs": [
    {
     "data": {
      "text/plain": [
       "[2, 4, 6, 10]"
      ]
     },
     "execution_count": 29,
     "metadata": {},
     "output_type": "execute_result"
    }
   ],
   "source": [
    "check_even_list([2, 3, 4, 5, 6, 7, 10])"
   ]
  },
  {
   "cell_type": "code",
   "execution_count": null,
   "id": "fa0d76c1-5861-43df-a7f5-8b8085c096f1",
   "metadata": {},
   "outputs": [],
   "source": []
  }
 ],
 "metadata": {
  "kernelspec": {
   "display_name": "Python 3 (ipykernel)",
   "language": "python",
   "name": "python3"
  },
  "language_info": {
   "codemirror_mode": {
    "name": "ipython",
    "version": 3
   },
   "file_extension": ".py",
   "mimetype": "text/x-python",
   "name": "python",
   "nbconvert_exporter": "python",
   "pygments_lexer": "ipython3",
   "version": "3.11.6"
  }
 },
 "nbformat": 4,
 "nbformat_minor": 5
}
